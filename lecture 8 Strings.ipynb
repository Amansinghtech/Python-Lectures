{
 "cells": [
  {
   "attachments": {},
   "cell_type": "markdown",
   "metadata": {},
   "source": [
    "# Strings\n",
    "\n",
    "* A string is a sequence of characters."
   ]
  },
  {
   "cell_type": "code",
   "execution_count": 1,
   "metadata": {},
   "outputs": [],
   "source": [
    "text = 'hello world'\n",
    "text = \"hello world\"\n",
    "text = '''hello world'''"
   ]
  },
  {
   "cell_type": "code",
   "execution_count": 3,
   "metadata": {},
   "outputs": [
    {
     "data": {
      "text/plain": [
       "str"
      ]
     },
     "execution_count": 3,
     "metadata": {},
     "output_type": "execute_result"
    }
   ],
   "source": [
    "type(text)"
   ]
  },
  {
   "cell_type": "code",
   "execution_count": 4,
   "metadata": {},
   "outputs": [
    {
     "data": {
      "text/plain": [
       "11"
      ]
     },
     "execution_count": 4,
     "metadata": {},
     "output_type": "execute_result"
    }
   ],
   "source": [
    "len(text)"
   ]
  },
  {
   "cell_type": "code",
   "execution_count": 8,
   "metadata": {},
   "outputs": [
    {
     "data": {
      "text/plain": [
       "'hello wor'"
      ]
     },
     "execution_count": 8,
     "metadata": {},
     "output_type": "execute_result"
    }
   ],
   "source": [
    "text[:-2]"
   ]
  },
  {
   "cell_type": "code",
   "execution_count": 9,
   "metadata": {},
   "outputs": [
    {
     "data": {
      "text/plain": [
       "True"
      ]
     },
     "execution_count": 9,
     "metadata": {},
     "output_type": "execute_result"
    }
   ],
   "source": [
    "'h' in text"
   ]
  },
  {
   "cell_type": "code",
   "execution_count": 10,
   "metadata": {},
   "outputs": [
    {
     "data": {
      "text/plain": [
       "False"
      ]
     },
     "execution_count": 10,
     "metadata": {},
     "output_type": "execute_result"
    }
   ],
   "source": [
    "'z' in text"
   ]
  },
  {
   "cell_type": "code",
   "execution_count": 12,
   "metadata": {},
   "outputs": [],
   "source": [
    "s1 = \"python\"\n",
    "s2 = \"Awesome\""
   ]
  },
  {
   "cell_type": "code",
   "execution_count": 13,
   "metadata": {},
   "outputs": [
    {
     "data": {
      "text/plain": [
       "'pythonAwesome'"
      ]
     },
     "execution_count": 13,
     "metadata": {},
     "output_type": "execute_result"
    }
   ],
   "source": [
    "s1 + s2"
   ]
  },
  {
   "cell_type": "code",
   "execution_count": 14,
   "metadata": {},
   "outputs": [
    {
     "data": {
      "text/plain": [
       "'hello hello hello '"
      ]
     },
     "execution_count": 14,
     "metadata": {},
     "output_type": "execute_result"
    }
   ],
   "source": [
    "\"hello \" * 3"
   ]
  },
  {
   "cell_type": "markdown",
   "metadata": {},
   "source": [
    "2 * 3\n",
    "2 + 2 + 2 = 6\n",
    "\n",
    "'hello ' * 3\n",
    "'hello ' + 'hello ' + 'hello '=\n",
    "'hello hello hello '"
   ]
  },
  {
   "cell_type": "code",
   "execution_count": 16,
   "metadata": {},
   "outputs": [
    {
     "data": {
      "text/plain": [
       "'hello world1'"
      ]
     },
     "execution_count": 16,
     "metadata": {},
     "output_type": "execute_result"
    }
   ],
   "source": [
    "text + str(1)"
   ]
  },
  {
   "cell_type": "code",
   "execution_count": 19,
   "metadata": {},
   "outputs": [
    {
     "name": "stdout",
     "output_type": "stream",
     "text": [
      "Help on built-in function replace:\n",
      "\n",
      "replace(old, new, count=-1, /) method of builtins.str instance\n",
      "    Return a copy with all occurrences of substring old replaced by new.\n",
      "    \n",
      "      count\n",
      "        Maximum number of occurrences to replace.\n",
      "        -1 (the default value) means replace all occurrences.\n",
      "    \n",
      "    If the optional argument count is given, only the first count occurrences are\n",
      "    replaced.\n",
      "\n"
     ]
    }
   ],
   "source": [
    "dir(text)\n",
    "help(text.replace)"
   ]
  },
  {
   "cell_type": "code",
   "execution_count": 22,
   "metadata": {},
   "outputs": [
    {
     "data": {
      "text/plain": [
       "'hellO wOrld'"
      ]
     },
     "execution_count": 22,
     "metadata": {},
     "output_type": "execute_result"
    }
   ],
   "source": [
    "text.replace('o', \"O\")"
   ]
  },
  {
   "cell_type": "code",
   "execution_count": 23,
   "metadata": {},
   "outputs": [
    {
     "data": {
      "text/plain": [
       "'hello world'"
      ]
     },
     "execution_count": 23,
     "metadata": {},
     "output_type": "execute_result"
    }
   ],
   "source": [
    "text"
   ]
  },
  {
   "cell_type": "code",
   "execution_count": 24,
   "metadata": {},
   "outputs": [
    {
     "data": {
      "text/plain": [
       "'HELLO WORLD'"
      ]
     },
     "execution_count": 24,
     "metadata": {},
     "output_type": "execute_result"
    }
   ],
   "source": [
    "text.upper()"
   ]
  },
  {
   "cell_type": "code",
   "execution_count": 26,
   "metadata": {},
   "outputs": [
    {
     "data": {
      "text/plain": [
       "['hell', ' w', 'rld']"
      ]
     },
     "execution_count": 26,
     "metadata": {},
     "output_type": "execute_result"
    }
   ],
   "source": [
    "text.split(\"o\")"
   ]
  },
  {
   "cell_type": "code",
   "execution_count": 1,
   "metadata": {},
   "outputs": [
    {
     "data": {
      "text/html": [
       "<style>\n",
       "    table {\n",
       "        display: inline-block\n",
       "    }\n",
       "</style>\n"
      ],
      "text/plain": [
       "<IPython.core.display.HTML object>"
      ]
     },
     "metadata": {},
     "output_type": "display_data"
    }
   ],
   "source": [
    "%%html\n",
    "<style>\n",
    "    table {\n",
    "        display: inline-block\n",
    "    }\n",
    "</style>"
   ]
  },
  {
   "cell_type": "markdown",
   "metadata": {},
   "source": [
    "# String Methods\n",
    "\n",
    "Method | Description\n",
    ":----------- | :------------\n",
    "capitalize() | Converts the first character to upper case\n",
    "casefold() | Converts string into lower case\n",
    "center() | Returns a centered string\n",
    "count() | Returns the number of times a specified value occurs in a string\n",
    "encode() | Returns an encoded version of the string\n",
    "endswith() | Returns true if the string ends with the specified value\n",
    "expandtabs() | Sets the tab size of the string\n",
    "find() | Searches the string for a specified value and returns the position of where it was found\n",
    "format() | Formats specified values in a string\n",
    "format_map() | Formats specified values in a string\n",
    "index() | Searches the string for a specified value and returns the position of where it was found\n",
    "isalnum() | Returns True if all characters in the string are alphanumeric\n",
    "isalpha() | Returns True if all characters in the string are in the alphabet\n",
    "isdecimal()|Returns True if all characters in the string are decimals\n",
    "isdigit()|Returns True if all characters in the string are digits\n",
    "isidentifier()|Returns True if the string is an identifier\n",
    "islower()|Returns True if all characters in the string are lower case\n",
    "isnumeric()|Returns True if all characters in the string are numeric\n",
    "isprintable()|Returns True if all characters in the string are printable\n",
    "isspace()|Returns True if all characters in the string are whitespaces\n",
    "istitle()|Returns True if the string follows the rules of a title\n",
    "isupper()|Returns True if all characters in the string are upper case\n",
    "join()|Joins the elements of an iterable to the end of the string\n",
    "ljust()|Returns a left justified version of the string\n",
    "lower()|Converts a string into lower case\n",
    "lstrip()|Returns a left trim version of the string\n",
    "maketrans()|Returns a translation table to be used in translations\n",
    "partition()|Returns a tuple where the string is parted into three parts\n",
    "replace()|Returns a string where a specified value is replaced with a specified value\n",
    "rfind()|Searches the string for a specified value and returns the last position of where it was found\n",
    "rindex()|Searches the string for a specified value and returns the last position of where it was found\n",
    "rjust()|Returns a right justified version of the string\n",
    "rpartition()|Returns a tuple where the string is parted into three parts\n",
    "rsplit()|Splits the string at the specified separator, and returns a list\n",
    "rstrip()|Returns a right trim version of the string\n",
    "split()|Splits the string at the specified separator, and returns a list\n",
    "splitlines()|Splits the string at line breaks and returns a list\n",
    "startswith()|Returns true if the string starts with the specified value\n",
    "strip()|Returns a trimmed version of the string\n",
    "swapcase()|Swaps cases, lower case becomes upper case and vice versa\n",
    "title()|Converts the first character of each word to upper case\n",
    "translate()|Returns a translated string\n",
    "upper()|Converts a string into upper case\n",
    "zfill()|Fills the string with a specified number of 0 values at the beginning"
   ]
  },
  {
   "cell_type": "code",
   "execution_count": null,
   "metadata": {},
   "outputs": [],
   "source": []
  }
 ],
 "metadata": {
  "kernelspec": {
   "display_name": "Python 3.8.1 64-bit",
   "language": "python",
   "name": "python38164bit57e2ac8b67e94c2c952fb940c784e620"
  },
  "language_info": {
   "codemirror_mode": {
    "name": "ipython",
    "version": 3
   },
   "file_extension": ".py",
   "mimetype": "text/x-python",
   "name": "python",
   "nbconvert_exporter": "python",
   "pygments_lexer": "ipython3",
   "version": "3.8.1"
  }
 },
 "nbformat": 4,
 "nbformat_minor": 4
}
