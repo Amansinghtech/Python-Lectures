{
 "cells": [
  {
   "cell_type": "markdown",
   "metadata": {},
   "source": [
    "## Q. Write a python program to find the factorial of a number using loop."
   ]
  },
  {
   "cell_type": "code",
   "execution_count": null,
   "metadata": {},
   "outputs": [],
   "source": [
    "num = int(input(\"Enter your number: \")) \n",
    "factorial = 1\n",
    "\n",
    "if num < 0:\n",
    "    print(\"Please enter a positive integer!\")\n",
    "else:\n",
    "    for i in range(1, num+1):\n",
    "        factorial *= i\n",
    "\n",
    "    print(\"Factorial is %d\"%factorial)"
   ]
  },
  {
   "cell_type": "markdown",
   "metadata": {},
   "source": [
    "## Q. Write a python program to print the fibonacci series upto n terms."
   ]
  },
  {
   "cell_type": "code",
   "execution_count": null,
   "metadata": {},
   "outputs": [],
   "source": [
    "nth = int(input(\"Enter nth term: \"))\n",
    "\n",
    "n1 = 0\n",
    "n2 = 1\n",
    "\n",
    "count = 0\n",
    "\n",
    "while count < nth:\n",
    "    print(n1)\n",
    "    n3 = n1 + n2\n",
    "\n",
    "    n1 = n2\n",
    "    n2 = n3\n",
    "\n",
    "    count += 1\n"
   ]
  }
 ],
 "metadata": {
  "kernelspec": {
   "display_name": "Python 3.8.1 64-bit",
   "language": "python",
   "name": "python38164bit57e2ac8b67e94c2c952fb940c784e620"
  },
  "language_info": {
   "codemirror_mode": {
    "name": "ipython",
    "version": 3
   },
   "file_extension": ".py",
   "mimetype": "text/x-python",
   "name": "python",
   "nbconvert_exporter": "python",
   "pygments_lexer": "ipython3",
   "version": "3.8.1"
  }
 },
 "nbformat": 4,
 "nbformat_minor": 4
}
